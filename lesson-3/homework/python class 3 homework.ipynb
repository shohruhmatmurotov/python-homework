{
 "cells": [
  {
   "cell_type": "code",
   "execution_count": 4,
   "metadata": {},
   "outputs": [
    {
     "name": "stdout",
     "output_type": "stream",
     "text": [
      "No discount\n"
     ]
    }
   ],
   "source": [
    "#Task-1\n",
    "age=int(input('How old are you?'))\n",
    "if age<=12 :\n",
    "   print('50 percents  discount')\n",
    "elif age>=60 :\n",
    "   print('30 percents discount')\n",
    "else:\n",
    "   print('No discount')"
   ]
  },
  {
   "cell_type": "code",
   "execution_count": 5,
   "metadata": {},
   "outputs": [
    {
     "name": "stdout",
     "output_type": "stream",
     "text": [
      "incorrect password!\n"
     ]
    }
   ],
   "source": [
    "#Task-2\n",
    "name=input('What is your name?')\n",
    "password=input('Enter the password please?')\n",
    "stored_password='secure123'\n",
    "if password==stored_password:\n",
    "    print('Welcome Dear {name}')\n",
    "else:\n",
    "    print('incorrect password!')"
   ]
  },
  {
   "cell_type": "code",
   "execution_count": 1,
   "metadata": {},
   "outputs": [
    {
     "name": "stdout",
     "output_type": "stream",
     "text": [
      "F\n"
     ]
    }
   ],
   "source": [
    "#Task-3\n",
    "score=float(input('Enter your grade please'))\n",
    "if score>=90 :\n",
    "    print('A')\n",
    "elif score>=80 and score<=89:\n",
    "    print('B')\n",
    "elif score>=70 and score <=79:\n",
    "    print('C')\n",
    "else :\n",
    "    print('F')"
   ]
  },
  {
   "cell_type": "code",
   "execution_count": null,
   "metadata": {},
   "outputs": [
    {
     "name": "stdout",
     "output_type": "stream",
     "text": [
      "Your balance good !\n"
     ]
    }
   ],
   "source": [
    "#Task-4\n",
    "balance=float(input('Enter your balance please!'))\n",
    "withdrawal=float(input('Enter withdrawal amount:'))\n",
    "if balance>withdrawal and balance/10000>=1:\n",
    "    print(f'succesfully withdrawal {withdrawal}')\n",
    "    print(f'(reamaining balance:{balance}-{withdrawal})')\n",
    "else:\n",
    "    print('Your balance is not enough to take money!')"
   ]
  },
  {
   "cell_type": "code",
   "execution_count": 6,
   "metadata": {},
   "outputs": [
    {
     "name": "stdout",
     "output_type": "stream",
     "text": [
      "Start driving ,today is your day\n"
     ]
    }
   ],
   "source": [
    "#Task-5\n",
    "colour=input('What is the colour of the traffic light at the moment red ,yellow ,green?')\n",
    "if colour=='red':\n",
    "    print('You have to stop')\n",
    "elif colour=='yellow':\n",
    "    print('You should be ready to drive and wait')\n",
    "elif colour=='green':\n",
    "    print('Start driving ,today is your day')\n",
    "else:\n",
    "    print('Are you mocking at me ,there is only 3 colours on traffic light')"
   ]
  },
  {
   "cell_type": "code",
   "execution_count": null,
   "metadata": {},
   "outputs": [
    {
     "name": "stdout",
     "output_type": "stream",
     "text": [
      "even\n"
     ]
    }
   ],
   "source": [
    "#Task-6\n",
    "number=int(input('Enter the number like 1,2,....'))\n",
    "if number>0 and number%2==0 :\n",
    "    print('even')\n",
    "else:\n",
    "    print('odd')"
   ]
  },
  {
   "cell_type": "code",
   "execution_count": 9,
   "metadata": {},
   "outputs": [
    {
     "name": "stdout",
     "output_type": "stream",
     "text": [
      "Obese\n"
     ]
    }
   ],
   "source": [
    "#Task-7\n",
    "weight=float(input('Please enter your weight in kg!'))\n",
    "height=float(input('Please enter your height in sm?'))/100\n",
    "bmi=weight/(height*height)\n",
    "if bmi>=40.0 :\n",
    "    print('Obese')\n",
    "elif bmi<40.0 and bmi>=25.0:\n",
    "    print('Overweight')\n",
    "elif bmi<25.0 and bmi>=18.5:\n",
    "    print('Normal')\n",
    "else:\n",
    "    print('Underweight')"
   ]
  },
  {
   "cell_type": "code",
   "execution_count": null,
   "metadata": {},
   "outputs": [],
   "source": [
    "#Task-8\n",
    "name=input('What is your name bro?')\n",
    "weather=float(input('What is the  temperature in your town ?'))\n",
    "if weather>=40:print('do not leave your home')\n",
    "elif weather>=20 and weather<=30 :\n",
    "    print('it is a good day for walking')\n",
    "elif weather<=20 and weather>=5 :\n",
    "    print('it is cool day for tarvelling if you want cool weather')\n",
    "else:\n",
    "    print('it is some how cold if it is not important ,do not leave your home!')\n"
   ]
  },
  {
   "cell_type": "code",
   "execution_count": null,
   "metadata": {},
   "outputs": [],
   "source": [
    "#Task-9\n",
    "name=input('what is your name dear our customer?')\n",
    "total_cost=float(input('How much do you spend for purchasing today in our shop?-in  dollar'))\n",
    "total_cost2=total_cost*1.10\n",
    "if total_cost>=50:\n",
    "    print(f'Our dear customer {name} achieved free shipping and you shouk pay only 💲{total_cost}')\n",
    "else:\n",
    "    print(f'Our dear customer {name} shoul pay 💲{total_cost2}')\n"
   ]
  },
  {
   "cell_type": "code",
   "execution_count": 1,
   "metadata": {},
   "outputs": [
    {
     "name": "stdout",
     "output_type": "stream",
     "text": [
      "4 percents interest\n"
     ]
    }
   ],
   "source": [
    "#Task-10\n",
    "account=input('Write your account type :savings,current,fixed deposit ')\n",
    "if account=='savings':\n",
    "    print('4 percents interest')\n",
    "elif account=='current':\n",
    "    print('NO interest')\n",
    "elif account=='fixed deposit':\n",
    "    print('6 percents intertest')\n",
    "else:\n",
    "    print('You wrote incorrect account type!')"
   ]
  },
  {
   "cell_type": "code",
   "execution_count": 2,
   "metadata": {},
   "outputs": [
    {
     "name": "stdout",
     "output_type": "stream",
     "text": [
      "You take a slap from your father🥲 \n"
     ]
    }
   ],
   "source": [
    "#Task-11\n",
    "score=float(input('write your score :'))\n",
    "if score>=90:\n",
    "    print('You take 20 percentages of discount')\n",
    "elif score<90 and score>=80:\n",
    "    print('YOU take 10 percentages of discount!')\n",
    "else:\n",
    "    print('You take a slap from your father🥲 ')"
   ]
  }
 ],
 "metadata": {
  "kernelspec": {
   "display_name": "Python 3",
   "language": "python",
   "name": "python3"
  },
  "language_info": {
   "codemirror_mode": {
    "name": "ipython",
    "version": 3
   },
   "file_extension": ".py",
   "mimetype": "text/x-python",
   "name": "python",
   "nbconvert_exporter": "python",
   "pygments_lexer": "ipython3",
   "version": "3.13.2"
  }
 },
 "nbformat": 4,
 "nbformat_minor": 2
}
