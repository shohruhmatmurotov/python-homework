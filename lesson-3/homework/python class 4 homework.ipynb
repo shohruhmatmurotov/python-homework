{
 "cells": [
  {
   "cell_type": "code",
   "execution_count": null,
   "metadata": {},
   "outputs": [
    {
     "name": "stdout",
     "output_type": "stream",
     "text": [
      "['rice', 'beans']\n",
      "pizza\n",
      "['eggs', 'fruit', 'orange', 'juice']\n",
      "[4, 5, 6, 5]\n"
     ]
    }
   ],
   "source": [
    "#Task-1\n",
    "food=['rice','beans']\n",
    "\n",
    "food.append('broccoli')\n",
    "\n",
    "\n",
    "n=['bread','pizza']\n",
    "\n",
    "food.extend(n)\n",
    "\n",
    "print(food[:2])\n",
    "\n",
    "print(food[-1])\n",
    "\n",
    "food\n",
    "\n",
    "s=\"eggs,fruit,orange,juice\"\n",
    "breakfast=s.split(\",\")\n",
    "print(breakfast)\n",
    "breakfast[:len(breakfast)-1]\n",
    "lengths=[len(shohruh) for shohruh in breakfast]\n",
    "print(lengths)\n",
    "\n",
    "#Task-2\n",
    "#1\n",
    "a = int(input())\n",
    "b = int(input())\n",
    "\n",
    "a, b = b, a\n",
    "print(f'{a=}')\n",
    "print(f'{b=}')\n",
    "\n",
    "a = 7\n",
    "b = 10\n",
    "temp = a  #7\n",
    "a = b  #10\n",
    "b = temp  #7\n",
    "print(a, b)\n",
    "\n",
    "#3\n",
    "a = 7\n",
    "b = 10\n",
    "a = a + b  #17\n",
    "b = a - b  #7\n",
    "a = a - b  #10\n",
    "\n",
    "print(a, b)\n",
    "\n"
   ]
  },
  {
   "cell_type": "code",
   "execution_count": null,
   "metadata": {},
   "outputs": [],
   "source": []
  },
  {
   "cell_type": "code",
   "execution_count": null,
   "metadata": {},
   "outputs": [],
   "source": []
  },
  {
   "cell_type": "code",
   "execution_count": null,
   "metadata": {},
   "outputs": [],
   "source": []
  }
 ],
 "metadata": {
  "kernelspec": {
   "display_name": "Python 3",
   "language": "python",
   "name": "python3"
  },
  "language_info": {
   "codemirror_mode": {
    "name": "ipython",
    "version": 3
   },
   "file_extension": ".py",
   "mimetype": "text/x-python",
   "name": "python",
   "nbconvert_exporter": "python",
   "pygments_lexer": "ipython3",
   "version": "3.13.2"
  }
 },
 "nbformat": 4,
 "nbformat_minor": 2
}
