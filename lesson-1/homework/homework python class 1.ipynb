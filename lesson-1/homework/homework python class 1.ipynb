{
 "cells": [
  {
   "cell_type": "code",
   "execution_count": null,
   "metadata": {},
   "outputs": [
    {
     "name": "stdout",
     "output_type": "stream",
     "text": [
      "p=20.0\n",
      "s=25.0\n"
     ]
    }
   ],
   "source": [
    "a=float(input( 'What is the size of your square'))\n",
    "P=4*a\n",
    "S=a**2\n",
    "print(f'p={P}')\n",
    "print(f's={S}')"
   ]
  },
  {
   "cell_type": "code",
   "execution_count": 32,
   "metadata": {},
   "outputs": [
    {
     "name": "stdout",
     "output_type": "stream",
     "text": [
      "l=31.400000000000002\n"
     ]
    }
   ],
   "source": [
    "R=float(input('what is the size of your circle'))\n",
    "L=2*3.14*R\n",
    "print(f'l={L}')"
   ]
  },
  {
   "cell_type": "code",
   "execution_count": 35,
   "metadata": {},
   "outputs": [
    {
     "name": "stdout",
     "output_type": "stream",
     "text": [
      "2.5\n"
     ]
    }
   ],
   "source": [
    "a=float(input('what is the number?'))\n",
    "b=float(input('what is the next number'))\n",
    "print((a+b)/2)"
   ]
  },
  {
   "cell_type": "code",
   "execution_count": 36,
   "metadata": {},
   "outputs": [
    {
     "name": "stdout",
     "output_type": "stream",
     "text": [
      "product=6.0 sqra=4.0 sqrb=9.0 sum=5.0\n"
     ]
    }
   ],
   "source": [
    "a=float(input('what is the number?'))\n",
    "b=float(input('what is the next number'))\n",
    "product=a*b\n",
    "sqra=a**2\n",
    "sqrb=b**2\n",
    "total=a+b\n",
    "print(f'product={product} sqra={sqra} sqrb={sqrb} sum={total}')\n"
   ]
  }
 ],
 "metadata": {
  "kernelspec": {
   "display_name": "Python 3",
   "language": "python",
   "name": "python3"
  },
  "language_info": {
   "codemirror_mode": {
    "name": "ipython",
    "version": 3
   },
   "file_extension": ".py",
   "mimetype": "text/x-python",
   "name": "python",
   "nbconvert_exporter": "python",
   "pygments_lexer": "ipython3",
   "version": "3.13.2"
  }
 },
 "nbformat": 4,
 "nbformat_minor": 2
}
