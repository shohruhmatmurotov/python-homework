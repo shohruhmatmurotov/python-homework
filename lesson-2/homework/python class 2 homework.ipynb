{
 "cells": [
  {
   "cell_type": "code",
   "execution_count": 1,
   "metadata": {},
   "outputs": [
    {
     "name": "stdout",
     "output_type": "stream",
     "text": [
      "shohruh is 19 years old\n"
     ]
    }
   ],
   "source": [
    "#task1\n",
    "name=input('What is your name?')\n",
    "year=int(input('which year were you born?'))\n",
    "age=2025-year\n",
    "print(f'{name} is {age} years old')"
   ]
  },
  {
   "cell_type": "code",
   "execution_count": 3,
   "metadata": {},
   "outputs": [
    {
     "name": "stdout",
     "output_type": "stream",
     "text": [
      "Malibu\n",
      "Lasetti\n"
     ]
    }
   ],
   "source": [
    "#task 2\n",
    "txt='LMaasleitbtui'\n",
    "print(txt[1::2])\n",
    "print(txt[::2])"
   ]
  },
  {
   "cell_type": "code",
   "execution_count": null,
   "metadata": {},
   "outputs": [
    {
     "name": "stdout",
     "output_type": "stream",
     "text": [
      "Matiz\n",
      "Damas\n"
     ]
    }
   ],
   "source": [
    "#task3\n",
    "txt='MsaatmiazD'\n",
    "print(txt[0::2])\n",
    "print(txt[-1::-2])\n"
   ]
  },
  {
   "cell_type": "code",
   "execution_count": 11,
   "metadata": {},
   "outputs": [
    {
     "name": "stdout",
     "output_type": "stream",
     "text": [
      "London\n"
     ]
    }
   ],
   "source": [
    "#task4\n",
    "txt='I\\'am john .I am from London'\n",
    "a=txt.index('L')\n",
    "print(txt[a:])"
   ]
  }
 ],
 "metadata": {
  "kernelspec": {
   "display_name": "Python 3",
   "language": "python",
   "name": "python3"
  },
  "language_info": {
   "codemirror_mode": {
    "name": "ipython",
    "version": 3
   },
   "file_extension": ".py",
   "mimetype": "text/x-python",
   "name": "python",
   "nbconvert_exporter": "python",
   "pygments_lexer": "ipython3",
   "version": "3.13.2"
  }
 },
 "nbformat": 4,
 "nbformat_minor": 2
}
